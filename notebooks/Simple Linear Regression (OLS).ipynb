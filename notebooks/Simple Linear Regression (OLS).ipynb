{
 "cells": [
  {
   "cell_type": "code",
   "execution_count": 1,
   "metadata": {},
   "outputs": [],
   "source": [
    "class LinearRegression:\n",
    "    def __init__(self):\n",
    "        self.w = None  # w stands for weight term which is the coefficient\n",
    "        self.b= None # b stands for bias term which is the intercept\n",
    "\n",
    "    def fit(self, X, y):\n",
    "        n = len(y) # number of observations \n",
    "\n",
    "        X_mean = sum(X)/n\n",
    "        y_mean = sum(y)/n\n",
    "\n",
    "        numerator = sum((X[i] - X_mean) * (y[i] - y_mean) for i in range(n))\n",
    "        denominator = sum((X[i] - X_mean) ** 2 for i in range(n))\n",
    "\n",
    "        self.w = numerator/denominator\n",
    "        self.b = y_mean - (self.w * X_mean)\n",
    "\n",
    "    def predict(self, X):\n",
    "        return [self.w * x + self.b for x in X]\n",
    "\n",
    "    def score(self, X, y):\n",
    "        y_pred = self.predict(X)\n",
    "        total_variance = sum((y[i] - sum(y) / len(y)) ** 2 for i in range(len(y)))\n",
    "        explained_variance = sum((y_pred[i] - sum(y) / len(y)) ** 2 for i in range(len(y_pred)))\n",
    "        return explained_variance/total_variance # R^2 score\n",
    "                               \n",
    "    "
   ]
  }
 ],
 "metadata": {
  "kernelspec": {
   "display_name": "base",
   "language": "python",
   "name": "python3"
  },
  "language_info": {
   "codemirror_mode": {
    "name": "ipython",
    "version": 3
   },
   "file_extension": ".py",
   "mimetype": "text/x-python",
   "name": "python",
   "nbconvert_exporter": "python",
   "pygments_lexer": "ipython3",
   "version": "3.9.18"
  }
 },
 "nbformat": 4,
 "nbformat_minor": 2
}
